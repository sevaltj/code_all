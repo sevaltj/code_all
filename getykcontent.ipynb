{
 "cells": [
  {
   "cell_type": "code",
   "execution_count": 1,
   "metadata": {},
   "outputs": [],
   "source": [
    "# -*-  coding:utf-8 -*-\n",
    "\n",
    "\n",
    "import time\n",
    "import random\n",
    "import urllib.request\n",
    "\n",
    "def gethtml(url):\n",
    "    \n",
    "    my_headers = [\n",
    "    \"Mozilla/5.0 (X11; Ubuntu; Linux x86_64; rv:16.0) Gecko/20100101 Firefox/16.0\",\n",
    "    \"Mozilla/5.0 (Windows NT 6.1; WOW64) AppleWebKit/537.11 (KHTML, like Gecko) Chrome/23.0.1271.64 Safari/537.11\",\n",
    "    \"Mozilla/5.0 (X11; U; Linux x86_64; zh-CN; rv:1.9.2.10) Gecko/20100922 Ubuntu/10.10 (maverick) Firefox/3.6.10\"]\n",
    "    \n",
    "    headers ={'User-Agent': random.choice(my_headers),'Accept': 'text/html,application/xhtml+xml,application/xml;q=0.9,image/webp,image/apng,*/*;q=0.8'}\n",
    "    \n",
    "    try:        \n",
    "        req = urllib.request.Request(url, headers=headers)     \n",
    "        result=urllib.request.urlopen(req).read().decode(\"utf-8\")\n",
    "        \n",
    "    except Exception as e:\n",
    "        print(e)\n",
    "   \n",
    "    return(result)"
   ]
  },
  {
   "cell_type": "code",
   "execution_count": 2,
   "metadata": {},
   "outputs": [],
   "source": [
    "urlfirst = 'https://p.comments.youku.com/ycp/comment/pc/commentList?jsoncallback=n_commentList&app=100-DDwODVkv&objectId=1061201689&objectType=1&listType=0&currentPage=1&pageSize=30&sign=7c41cc8cd6e779094041e2d770d0204d&time=1564760892'\n"
   ]
  },
  {
   "cell_type": "code",
   "execution_count": 3,
   "metadata": {},
   "outputs": [
    {
     "name": "stdout",
     "output_type": "stream",
     "text": [
      "['85']\n"
     ]
    }
   ],
   "source": [
    "#找到每集的totalPage是多少\n",
    "import re\n",
    "import csv\n",
    "resultfirst = gethtml(urlfirst)\n",
    "totalPage1 = re.findall('totalPage\":(.*?),\"',str(resultfirst),re.S)#表格格式\n",
    "print(totalPage1)\n"
   ]
  },
  {
   "cell_type": "code",
   "execution_count": 4,
   "metadata": {},
   "outputs": [],
   "source": [
    "#构建urls\n",
    "firsturls = ['https://p.comments.youku.com/ycp/comment/pc/commentList?jsoncallback=n_commentList&app=100-DDwODVkv&objectId=1061201689&objectType=1&listType=0&currentPage={}&pageSize=30&sign=7c41cc8cd6e779094041e2d770d0204d&time=1564760892'.format(str(i)) for i in range(1,int(totalPage1[0])+1)]\n"
   ]
  },
  {
   "cell_type": "code",
   "execution_count": null,
   "metadata": {},
   "outputs": [],
   "source": [
    "import pandas as pd\n",
    "\n",
    "for url in firsturls:\n",
    "    time.sleep(2+float(random.randint(1, 50)) / 20)\n",
    "    print(url)\n",
    "    resultall = gethtml(url).encode('UTF-8').decode('unicode-escape','ignore')#unicode-escape\n",
    "    \n",
    "    def saveresult(resultall):\n",
    "        AllComment = pd.DataFrame()\n",
    "    \n",
    "    #从第2行写入数据\n",
    "        userId = re.findall('userId\":(.*?),\"userCode',str(resultall),re.S)\n",
    "        userLevel = re.findall('userLevel\":(.*?),\"',str(resultall),re.S)\n",
    "        userName = re.findall('userName\":\"(.*?)\",',str(resultall),re.S)\n",
    "        content = re.findall('content\":\"(.*?)\",',str(resultall),re.S)\n",
    "        createTime = re.findall('createTime\":(.*?),\"',str(resultall),re.S)\n",
    "        vipInfo =re.findall('\"vipInfo\":{(.*?)}',str(resultall),re.S)\n",
    "    \n",
    "        AllComment['userId']=userId\n",
    "        AllComment['userLevel']=userLevel\n",
    "        AllComment['userName']=userName\n",
    "        AllComment['content']=content\n",
    "        AllComment['createTime']=createTime\n",
    "        AllComment['vipInfo']=vipInfo\n",
    "\n",
    "        \n",
    "        return(AllComment)\n",
    "    \n",
    "    endresult = saveresult(resultall)\n",
    "    \n",
    "    alllist = endresult.values.tolist()#转成list，以list存入csv\n",
    "    \n",
    "    \n",
    "    with open('ykcontents12.csv','a',newline='',encoding='gb18030') as csvfile:\n",
    "        writer  = csv.writer(csvfile)\n",
    "        for row in alllist:\n",
    "            try:\n",
    "                writer.writerow(row)\n",
    "            except UnicodeEncodeError:\n",
    "                pass\n",
    "            continue\n",
    "    \n",
    "    '''用pandas的存入csv一直出现编码错误\n",
    "endresult.to_csv('ykcresult11.csv',index=False, header=None, mode='a',encoding='utf_8_sig')#,encoding=\"gb18030\"\n",
    "\n",
    "'''\n",
    "  "
   ]
  },
  {
   "cell_type": "code",
   "execution_count": null,
   "metadata": {},
   "outputs": [],
   "source": []
  }
 ],
 "metadata": {
  "kernelspec": {
   "display_name": "Python 3",
   "language": "python",
   "name": "python3"
  },
  "language_info": {
   "codemirror_mode": {
    "name": "ipython",
    "version": 3
   },
   "file_extension": ".py",
   "mimetype": "text/x-python",
   "name": "python",
   "nbconvert_exporter": "python",
   "pygments_lexer": "ipython3",
   "version": "3.6.4"
  }
 },
 "nbformat": 4,
 "nbformat_minor": 2
}
