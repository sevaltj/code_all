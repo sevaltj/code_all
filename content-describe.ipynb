{
 "cells": [
  {
   "cell_type": "code",
   "execution_count": 1,
   "metadata": {},
   "outputs": [],
   "source": [
    "import numpy as np\n",
    "import pandas as pd\n",
    "import csv"
   ]
  },
  {
   "cell_type": "code",
   "execution_count": 2,
   "metadata": {},
   "outputs": [],
   "source": [
    "cacontents = pd.read_excel('emotional1000.xlsx')\n",
    "#cacontents.head(3)"
   ]
  },
  {
   "cell_type": "code",
   "execution_count": 3,
   "metadata": {},
   "outputs": [
    {
     "name": "stdout",
     "output_type": "stream",
     "text": [
      "(74611, 28)\n"
     ]
    }
   ],
   "source": [
    "print(cacontents.shape)#多少行，多少列"
   ]
  },
  {
   "cell_type": "code",
   "execution_count": 4,
   "metadata": {},
   "outputs": [
    {
     "name": "stdout",
     "output_type": "stream",
     "text": [
      "(74611, 28)\n"
     ]
    }
   ],
   "source": [
    "df = pd.DataFrame(cacontents)\n",
    "print(df.shape)"
   ]
  },
  {
   "cell_type": "code",
   "execution_count": 5,
   "metadata": {},
   "outputs": [
    {
     "name": "stdout",
     "output_type": "stream",
     "text": [
      "<class 'pandas.core.frame.DataFrame'>\n",
      "RangeIndex: 74611 entries, 0 to 74610\n",
      "Data columns (total 28 columns):\n",
      "nocare         74611 non-null object\n",
      "VIPINFO        49392 non-null object\n",
      "numji          74611 non-null int64\n",
      "USERID         74611 non-null int64\n",
      "UESRLEVEL      74611 non-null int64\n",
      "USERNAME       74347 non-null object\n",
      "CONTENT        74597 non-null object\n",
      "CREATETIME     74611 non-null int64\n",
      "VIPGRADE       49392 non-null float64\n",
      "score          74611 non-null int64\n",
      "timeconvert    74611 non-null object\n",
      "timeday        74611 non-null datetime64[ns]\n",
      "timehour       74611 non-null object\n",
      "ac-libi        74611 non-null int64\n",
      "yy-yyqx        74611 non-null int64\n",
      "ac-zxj         74611 non-null int64\n",
      "yy-ljy         74611 non-null int64\n",
      "ac-lb          74611 non-null int64\n",
      "yy-zyw         74611 non-null int64\n",
      "ac-xb          74611 non-null int64\n",
      "ac-tq          74611 non-null int64\n",
      "ac-hf          74611 non-null int64\n",
      "ac-cq          74611 non-null int64\n",
      "ac-yrn         74611 non-null int64\n",
      "ac-yc          74611 non-null int64\n",
      "ac-cpy         74611 non-null int64\n",
      "ac-langw       74611 non-null int64\n",
      "ac-wr          74611 non-null int64\n",
      "dtypes: datetime64[ns](1), float64(1), int64(20), object(6)\n",
      "memory usage: 15.9+ MB\n"
     ]
    }
   ],
   "source": [
    "df.info()#查看数据表信息"
   ]
  },
  {
   "cell_type": "code",
   "execution_count": 7,
   "metadata": {},
   "outputs": [
    {
     "data": {
      "text/html": [
       "<div>\n",
       "<style scoped>\n",
       "    .dataframe tbody tr th:only-of-type {\n",
       "        vertical-align: middle;\n",
       "    }\n",
       "\n",
       "    .dataframe tbody tr th {\n",
       "        vertical-align: top;\n",
       "    }\n",
       "\n",
       "    .dataframe thead th {\n",
       "        text-align: right;\n",
       "    }\n",
       "</style>\n",
       "<table border=\"1\" class=\"dataframe\">\n",
       "  <thead>\n",
       "    <tr style=\"text-align: right;\">\n",
       "      <th></th>\n",
       "      <th>nocare</th>\n",
       "      <th>VIPINFO</th>\n",
       "      <th>numji</th>\n",
       "      <th>USERID</th>\n",
       "      <th>UESRLEVEL</th>\n",
       "      <th>USERNAME</th>\n",
       "      <th>CONTENT</th>\n",
       "      <th>CREATETIME</th>\n",
       "      <th>VIPGRADE</th>\n",
       "      <th>score</th>\n",
       "      <th>...</th>\n",
       "      <th>yy-zyw</th>\n",
       "      <th>ac-xb</th>\n",
       "      <th>ac-tq</th>\n",
       "      <th>ac-hf</th>\n",
       "      <th>ac-cq</th>\n",
       "      <th>ac-yrn</th>\n",
       "      <th>ac-yc</th>\n",
       "      <th>ac-cpy</th>\n",
       "      <th>ac-langw</th>\n",
       "      <th>ac-wr</th>\n",
       "    </tr>\n",
       "  </thead>\n",
       "  <tbody>\n",
       "    <tr>\n",
       "      <th>0</th>\n",
       "      <td>1183478206,\"content\":\"给力\\n\",\"downCount\":0,\"rep...</td>\n",
       "      <td>\"icon\":\"https:\\/\\/r1.ykimg.com\\/0510000058621A...</td>\n",
       "      <td>12</td>\n",
       "      <td>1183478206</td>\n",
       "      <td>24</td>\n",
       "      <td>微儿娜</td>\n",
       "      <td>给力</td>\n",
       "      <td>1561637429191</td>\n",
       "      <td>5.0</td>\n",
       "      <td>2</td>\n",
       "      <td>...</td>\n",
       "      <td>0</td>\n",
       "      <td>0</td>\n",
       "      <td>0</td>\n",
       "      <td>0</td>\n",
       "      <td>0</td>\n",
       "      <td>0</td>\n",
       "      <td>0</td>\n",
       "      <td>0</td>\n",
       "      <td>0</td>\n",
       "      <td>0</td>\n",
       "    </tr>\n",
       "    <tr>\n",
       "      <th>1</th>\n",
       "      <td>1409942975,\"content\":\"太开心了！！！！！！\",\"downCount\":...</td>\n",
       "      <td>\"icon\":\"https:\\/\\/r1.ykimg.com\\/0510000058621A...</td>\n",
       "      <td>1</td>\n",
       "      <td>1409942975</td>\n",
       "      <td>12</td>\n",
       "      <td>亲海露HxH</td>\n",
       "      <td>太开心了！！！！！！</td>\n",
       "      <td>1561637466018</td>\n",
       "      <td>2.0</td>\n",
       "      <td>0</td>\n",
       "      <td>...</td>\n",
       "      <td>0</td>\n",
       "      <td>0</td>\n",
       "      <td>0</td>\n",
       "      <td>0</td>\n",
       "      <td>0</td>\n",
       "      <td>0</td>\n",
       "      <td>0</td>\n",
       "      <td>0</td>\n",
       "      <td>0</td>\n",
       "      <td>0</td>\n",
       "    </tr>\n",
       "    <tr>\n",
       "      <th>2</th>\n",
       "      <td>1409942975,\"content\":\"惊喜\",\"downCount\":0,\"reply...</td>\n",
       "      <td>\"icon\":\"https:\\/\\/r1.ykimg.com\\/0510000058621A...</td>\n",
       "      <td>1</td>\n",
       "      <td>1409942975</td>\n",
       "      <td>12</td>\n",
       "      <td>亲海露HxH</td>\n",
       "      <td>惊喜</td>\n",
       "      <td>1561637542281</td>\n",
       "      <td>2.0</td>\n",
       "      <td>2</td>\n",
       "      <td>...</td>\n",
       "      <td>0</td>\n",
       "      <td>0</td>\n",
       "      <td>0</td>\n",
       "      <td>0</td>\n",
       "      <td>0</td>\n",
       "      <td>0</td>\n",
       "      <td>0</td>\n",
       "      <td>0</td>\n",
       "      <td>0</td>\n",
       "      <td>0</td>\n",
       "    </tr>\n",
       "  </tbody>\n",
       "</table>\n",
       "<p>3 rows × 28 columns</p>\n",
       "</div>"
      ],
      "text/plain": [
       "                                              nocare  \\\n",
       "0  1183478206,\"content\":\"给力\\n\",\"downCount\":0,\"rep...   \n",
       "1  1409942975,\"content\":\"太开心了！！！！！！\",\"downCount\":...   \n",
       "2  1409942975,\"content\":\"惊喜\",\"downCount\":0,\"reply...   \n",
       "\n",
       "                                             VIPINFO  numji      USERID  \\\n",
       "0  \"icon\":\"https:\\/\\/r1.ykimg.com\\/0510000058621A...     12  1183478206   \n",
       "1  \"icon\":\"https:\\/\\/r1.ykimg.com\\/0510000058621A...      1  1409942975   \n",
       "2  \"icon\":\"https:\\/\\/r1.ykimg.com\\/0510000058621A...      1  1409942975   \n",
       "\n",
       "   UESRLEVEL USERNAME     CONTENT     CREATETIME  VIPGRADE  score  ...    \\\n",
       "0         24      微儿娜          给力  1561637429191       5.0      2  ...     \n",
       "1         12   亲海露HxH  太开心了！！！！！！  1561637466018       2.0      0  ...     \n",
       "2         12   亲海露HxH          惊喜  1561637542281       2.0      2  ...     \n",
       "\n",
       "  yy-zyw ac-xb ac-tq  ac-hf  ac-cq  ac-yrn  ac-yc  ac-cpy  ac-langw  ac-wr  \n",
       "0      0     0     0      0      0       0      0       0         0      0  \n",
       "1      0     0     0      0      0       0      0       0         0      0  \n",
       "2      0     0     0      0      0       0      0       0         0      0  \n",
       "\n",
       "[3 rows x 28 columns]"
      ]
     },
     "execution_count": 7,
     "metadata": {},
     "output_type": "execute_result"
    }
   ],
   "source": [
    "#查看前3行数据\n",
    "df.head(3)"
   ]
  },
  {
   "cell_type": "code",
   "execution_count": 8,
   "metadata": {},
   "outputs": [],
   "source": [
    "#数据透视表——可看出每集的会员占比\n",
    "#pd.pivot_table(df.fillna(value=0),index=[\"numji\"],values=[\"USERID\"],columns=[\"VIPGRADE\"],aggfunc=[len],fill_value=0,margins=True)"
   ]
  },
  {
   "cell_type": "code",
   "execution_count": 9,
   "metadata": {},
   "outputs": [
    {
     "data": {
      "text/html": [
       "<div>\n",
       "<style scoped>\n",
       "    .dataframe tbody tr th:only-of-type {\n",
       "        vertical-align: middle;\n",
       "    }\n",
       "\n",
       "    .dataframe tbody tr th {\n",
       "        vertical-align: top;\n",
       "    }\n",
       "\n",
       "    .dataframe thead th {\n",
       "        text-align: right;\n",
       "    }\n",
       "</style>\n",
       "<table border=\"1\" class=\"dataframe\">\n",
       "  <thead>\n",
       "    <tr style=\"text-align: right;\">\n",
       "      <th></th>\n",
       "      <th>nocare</th>\n",
       "      <th>VIPINFO</th>\n",
       "      <th>numji</th>\n",
       "      <th>USERID</th>\n",
       "      <th>UESRLEVEL</th>\n",
       "      <th>USERNAME</th>\n",
       "      <th>CONTENT</th>\n",
       "      <th>CREATETIME</th>\n",
       "      <th>VIPGRADE</th>\n",
       "      <th>score</th>\n",
       "      <th>...</th>\n",
       "      <th>yy-zyw</th>\n",
       "      <th>ac-xb</th>\n",
       "      <th>ac-tq</th>\n",
       "      <th>ac-hf</th>\n",
       "      <th>ac-cq</th>\n",
       "      <th>ac-yrn</th>\n",
       "      <th>ac-yc</th>\n",
       "      <th>ac-cpy</th>\n",
       "      <th>ac-langw</th>\n",
       "      <th>ac-wr</th>\n",
       "    </tr>\n",
       "  </thead>\n",
       "  <tbody>\n",
       "    <tr>\n",
       "      <th>0</th>\n",
       "      <td>1183478206,\"content\":\"给力\\n\",\"downCount\":0,\"rep...</td>\n",
       "      <td>\"icon\":\"https:\\/\\/r1.ykimg.com\\/0510000058621A...</td>\n",
       "      <td>12</td>\n",
       "      <td>1183478206</td>\n",
       "      <td>24</td>\n",
       "      <td>微儿娜</td>\n",
       "      <td>给力</td>\n",
       "      <td>1561637429191</td>\n",
       "      <td>5.0</td>\n",
       "      <td>2</td>\n",
       "      <td>...</td>\n",
       "      <td>0</td>\n",
       "      <td>0</td>\n",
       "      <td>0</td>\n",
       "      <td>0</td>\n",
       "      <td>0</td>\n",
       "      <td>0</td>\n",
       "      <td>0</td>\n",
       "      <td>0</td>\n",
       "      <td>0</td>\n",
       "      <td>0</td>\n",
       "    </tr>\n",
       "    <tr>\n",
       "      <th>1</th>\n",
       "      <td>1409942975,\"content\":\"太开心了！！！！！！\",\"downCount\":...</td>\n",
       "      <td>\"icon\":\"https:\\/\\/r1.ykimg.com\\/0510000058621A...</td>\n",
       "      <td>1</td>\n",
       "      <td>1409942975</td>\n",
       "      <td>12</td>\n",
       "      <td>亲海露HxH</td>\n",
       "      <td>太开心了！！！！！！</td>\n",
       "      <td>1561637466018</td>\n",
       "      <td>2.0</td>\n",
       "      <td>0</td>\n",
       "      <td>...</td>\n",
       "      <td>0</td>\n",
       "      <td>0</td>\n",
       "      <td>0</td>\n",
       "      <td>0</td>\n",
       "      <td>0</td>\n",
       "      <td>0</td>\n",
       "      <td>0</td>\n",
       "      <td>0</td>\n",
       "      <td>0</td>\n",
       "      <td>0</td>\n",
       "    </tr>\n",
       "    <tr>\n",
       "      <th>2</th>\n",
       "      <td>1409942975,\"content\":\"惊喜\",\"downCount\":0,\"reply...</td>\n",
       "      <td>\"icon\":\"https:\\/\\/r1.ykimg.com\\/0510000058621A...</td>\n",
       "      <td>1</td>\n",
       "      <td>1409942975</td>\n",
       "      <td>12</td>\n",
       "      <td>亲海露HxH</td>\n",
       "      <td>惊喜</td>\n",
       "      <td>1561637542281</td>\n",
       "      <td>2.0</td>\n",
       "      <td>2</td>\n",
       "      <td>...</td>\n",
       "      <td>0</td>\n",
       "      <td>0</td>\n",
       "      <td>0</td>\n",
       "      <td>0</td>\n",
       "      <td>0</td>\n",
       "      <td>0</td>\n",
       "      <td>0</td>\n",
       "      <td>0</td>\n",
       "      <td>0</td>\n",
       "      <td>0</td>\n",
       "    </tr>\n",
       "  </tbody>\n",
       "</table>\n",
       "<p>3 rows × 28 columns</p>\n",
       "</div>"
      ],
      "text/plain": [
       "                                              nocare  \\\n",
       "0  1183478206,\"content\":\"给力\\n\",\"downCount\":0,\"rep...   \n",
       "1  1409942975,\"content\":\"太开心了！！！！！！\",\"downCount\":...   \n",
       "2  1409942975,\"content\":\"惊喜\",\"downCount\":0,\"reply...   \n",
       "\n",
       "                                             VIPINFO  numji      USERID  \\\n",
       "0  \"icon\":\"https:\\/\\/r1.ykimg.com\\/0510000058621A...     12  1183478206   \n",
       "1  \"icon\":\"https:\\/\\/r1.ykimg.com\\/0510000058621A...      1  1409942975   \n",
       "2  \"icon\":\"https:\\/\\/r1.ykimg.com\\/0510000058621A...      1  1409942975   \n",
       "\n",
       "   UESRLEVEL USERNAME     CONTENT     CREATETIME  VIPGRADE  score  ...    \\\n",
       "0         24      微儿娜          给力  1561637429191       5.0      2  ...     \n",
       "1         12   亲海露HxH  太开心了！！！！！！  1561637466018       2.0      0  ...     \n",
       "2         12   亲海露HxH          惊喜  1561637542281       2.0      2  ...     \n",
       "\n",
       "  yy-zyw ac-xb ac-tq  ac-hf  ac-cq  ac-yrn  ac-yc  ac-cpy  ac-langw  ac-wr  \n",
       "0      0     0     0      0      0       0      0       0         0      0  \n",
       "1      0     0     0      0      0       0      0       0         0      0  \n",
       "2      0     0     0      0      0       0      0       0         0      0  \n",
       "\n",
       "[3 rows x 28 columns]"
      ]
     },
     "execution_count": 9,
     "metadata": {},
     "output_type": "execute_result"
    }
   ],
   "source": [
    "#使用数字0填充数据表中空值\n",
    "df = df.fillna(value=0)\n",
    "df.head(3)"
   ]
  },
  {
   "cell_type": "code",
   "execution_count": 14,
   "metadata": {},
   "outputs": [
    {
     "data": {
      "text/plain": [
       "7285"
      ]
     },
     "execution_count": 14,
     "metadata": {},
     "output_type": "execute_result"
    }
   ],
   "source": [
    "df['yy-yyqx'].sum()#出现千玺的次数"
   ]
  },
  {
   "cell_type": "code",
   "execution_count": 20,
   "metadata": {},
   "outputs": [
    {
     "data": {
      "text/plain": [
       "score\n",
       "0    1434\n",
       "1    1453\n",
       "2    4398\n",
       "Name: USERID, dtype: int64"
      ]
     },
     "execution_count": 20,
     "metadata": {},
     "output_type": "execute_result"
    }
   ],
   "source": [
    "#对特定的SCORE列进行计数汇总,包含千玺的评论\n",
    "df[df['yy-yyqx'] == 1].groupby('score')['USERID'].count()"
   ]
  },
  {
   "cell_type": "code",
   "execution_count": null,
   "metadata": {},
   "outputs": [],
   "source": []
  }
 ],
 "metadata": {
  "kernelspec": {
   "display_name": "Python 3",
   "language": "python",
   "name": "python3"
  },
  "language_info": {
   "codemirror_mode": {
    "name": "ipython",
    "version": 3
   },
   "file_extension": ".py",
   "mimetype": "text/x-python",
   "name": "python",
   "nbconvert_exporter": "python",
   "pygments_lexer": "ipython3",
   "version": "3.6.4"
  }
 },
 "nbformat": 4,
 "nbformat_minor": 2
}
