{
 "cells": [
  {
   "cell_type": "code",
   "execution_count": 1,
   "metadata": {},
   "outputs": [],
   "source": [
    "import numpy as np\n",
    "import pandas as pd\n",
    "import csv"
   ]
  },
  {
   "cell_type": "code",
   "execution_count": 2,
   "metadata": {},
   "outputs": [],
   "source": [
    "cacontents = pd.read_excel('casesc.xlsx')\n",
    "#cacontents.head(3)"
   ]
  },
  {
   "cell_type": "code",
   "execution_count": 4,
   "metadata": {},
   "outputs": [
    {
     "name": "stdout",
     "output_type": "stream",
     "text": [
      "(74611, 9)\n"
     ]
    }
   ],
   "source": [
    "df = pd.DataFrame(cacontents)\n",
    "print(df.shape)"
   ]
  },
  {
   "cell_type": "code",
   "execution_count": 19,
   "metadata": {},
   "outputs": [],
   "source": [
    "import urllib.request\n",
    "import pandas\n",
    "import json\n",
    "import time\n",
    "\n",
    "\n",
    "def get_access_token():\n",
    "    \"\"\"\n",
    "    获取百度AI平台的Access Token\n",
    "    \"\"\"\n",
    "    # 使用你的API Key及Secret Key\n",
    "    host = 'https://aip.baidubce.com/oauth/2.0/token?grant_type=client_credentials&client_id=FIGcoqTMBM95h0GlZQneRz8U&client_secret=qQs3qaPmSIlEkIPw3fIcyf0EGp2rfTXD'\n",
    "    request = urllib.request.Request(host)\n",
    "    request.add_header('Content-Type', 'application/json; charset=UTF-8')\n",
    "    response = urllib.request.urlopen(request)\n",
    "    content = response.read().decode('utf-8')\n",
    "    rdata = json.loads(content)\n",
    "    return rdata['access_token']"
   ]
  },
  {
   "cell_type": "code",
   "execution_count": 20,
   "metadata": {},
   "outputs": [],
   "source": [
    "def sentiment_classify(text, acc):\n",
    "    \"\"\"\n",
    "    获取文本的感情偏向（消极 or 积极 or 中立）\n",
    "    参数：\n",
    "    text:str 本文\n",
    "    \"\"\"\n",
    "    raw = {\"text\":\"内容\"}\n",
    "    raw['text'] = text\n",
    "    data = json.dumps(raw).encode('utf-8')\n",
    "    # 情感倾向分析接口\n",
    "    host = \"https://aip.baidubce.com/rpc/2.0/nlp/v1/sentiment_classify?charset=UTF-8&access_token=\" + acc\n",
    "    request = urllib.request.Request(url=host, data=data)\n",
    "    request.add_header('Content-Type', 'application/json')\n",
    "    response = urllib.request.urlopen(request)\n",
    "    content = response.read().decode('utf-8')\n",
    "    rdata = json.loads(content)\n",
    "    return rdata"
   ]
  },
  {
   "cell_type": "code",
   "execution_count": 21,
   "metadata": {},
   "outputs": [],
   "source": [
    "# 获取access_token\n",
    "access_token = get_access_token()"
   ]
  },
  {
   "cell_type": "code",
   "execution_count": null,
   "metadata": {},
   "outputs": [],
   "source": [
    "# 输出情感极性分类结果,0:负向,1:中性,2:正向\n",
    "sentiments = []\n",
    "for text in df['CONTENT']:\n",
    "    time.sleep(1)#速度太快会出错\n",
    "    result = sentiment_classify(str(text), access_token)\n",
    "    value = result['items'][0]['sentiment']\n",
    "    sentiments.append(value)\n",
    "    print(value,text)\n",
    "    #为了防止突然中断，将以出来的分值\n",
    "    with open('texttxt.csv','a',newline='',encoding='gb18030') as csvfile:\n",
    "        writer  = csv.writer(csvfile)\n",
    "        writer.writerow([value,text])\n",
    "            \n",
    "\n",
    "    # 添加评情感列\n",
    "df['emotional'] = sentiments\n",
    "#print(df.head())\n",
    "\n",
    "#导出至excel\n",
    "df.to_excel('emotional19439.xlsx',index=False, header=None,encoding='utf_8_sig')#,encoding=\"gb18030\"\n"
   ]
  },
  {
   "cell_type": "code",
   "execution_count": null,
   "metadata": {},
   "outputs": [],
   "source": []
  }
 ],
 "metadata": {
  "kernelspec": {
   "display_name": "Python 3",
   "language": "python",
   "name": "python3"
  },
  "language_info": {
   "codemirror_mode": {
    "name": "ipython",
    "version": 3
   },
   "file_extension": ".py",
   "mimetype": "text/x-python",
   "name": "python",
   "nbconvert_exporter": "python",
   "pygments_lexer": "ipython3",
   "version": "3.6.4"
  }
 },
 "nbformat": 4,
 "nbformat_minor": 2
}
