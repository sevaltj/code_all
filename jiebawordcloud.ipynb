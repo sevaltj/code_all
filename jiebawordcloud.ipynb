{
 "cells": [
  {
   "cell_type": "code",
   "execution_count": 1,
   "metadata": {},
   "outputs": [],
   "source": [
    "import numpy as np\n",
    "import pandas as pd\n",
    "import csv"
   ]
  },
  {
   "cell_type": "code",
   "execution_count": 2,
   "metadata": {},
   "outputs": [],
   "source": [
    "cacontents = pd.read_excel('emotional1000.xlsx')\n",
    "#cacontents.head(3)"
   ]
  },
  {
   "cell_type": "code",
   "execution_count": 3,
   "metadata": {},
   "outputs": [
    {
     "name": "stdout",
     "output_type": "stream",
     "text": [
      "(74611, 28)\n"
     ]
    }
   ],
   "source": [
    "df = pd.DataFrame(cacontents)\n",
    "print(df.shape)"
   ]
  },
  {
   "cell_type": "code",
   "execution_count": 9,
   "metadata": {},
   "outputs": [],
   "source": [
    "import jieba as jb\n",
    "import wordcloud as wc"
   ]
  },
  {
   "cell_type": "code",
   "execution_count": 11,
   "metadata": {},
   "outputs": [],
   "source": [
    "from matplotlib import pyplot as plt\n",
    "from wordcloud import WordCloud"
   ]
  },
  {
   "cell_type": "code",
   "execution_count": 12,
   "metadata": {},
   "outputs": [],
   "source": [
    "font = 'C:/msyh.ttc' #引入字体"
   ]
  },
  {
   "cell_type": "code",
   "execution_count": 58,
   "metadata": {},
   "outputs": [],
   "source": [
    "contents = ''.join(str(id) for id in df[df['yy-yyqx'] == 1]['CONTENT'])#转为字符串"
   ]
  },
  {
   "cell_type": "code",
   "execution_count": 66,
   "metadata": {},
   "outputs": [],
   "source": [
    "#添加词\n",
    "jb.add_word('四字')\n",
    "jb.add_word('雷佳音')\n",
    "jb.add_word('周一围')\n",
    "jb.add_word('张小敬')\n",
    "jb.add_word('檀棋')\n",
    "jb.add_word('崔器')\n",
    "jb.add_word('龙波')\n",
    "jb.add_word('姚汝能')\n",
    "jb.add_word('何孚')\n",
    "jb.add_word('长安十二时辰')\n",
    "jb.add_word('十二时辰')\n",
    "jb.add_word('大唐')\n",
    "jb.add_word('徐宾')\n",
    "jb.add_word('葛老')\n",
    "jb.add_word('鱼肠')\n",
    "jb.add_word('狼卫')\n",
    "jb.add_word('李沁')\n",
    "jb.add_word('热依扎')\n",
    "jb.add_word('徐主事')\n",
    "jb.add_word('元载')\n",
    "jb.add_word('曹破延')\n",
    "jb.add_word('闻染')"
   ]
  },
  {
   "cell_type": "code",
   "execution_count": 78,
   "metadata": {},
   "outputs": [],
   "source": [
    "#删除词\n",
    "jb.del_word('?')\n",
    "jb.del_word('？')\n",
    "jb.del_word('/n')\n",
    "jb.del_word('吗')\n",
    "jb.del_word('了')\n",
    "jb.del_word('“')\n",
    "jb.del_word('”')\n",
    "jb.del_word('，')\n",
    "jb.del_word('这个')\n",
    "jb.del_word('这些')\n",
    "jb.del_word('不是')\n",
    "jb.del_word('还是')\n",
    "jb.del_word('那么')\n",
    "jb.del_word('所以')\n",
    "jb.del_word('这种')\n",
    "jb.del_word('不管')\n",
    "jb.del_word('一下')\n",
    "jb.del_word('这是')\n",
    "jb.del_word('一些')\n",
    "jb.del_word('一点')\n",
    "jb.del_word('虽然')\n",
    "jb.del_word('每个')\n",
    "jb.del_word('因为')\n",
    "jb.del_word('的话')\n",
    "jb.del_word('之后')\n",
    "jb.del_word('有人')\n",
    "jb.del_word('你们')\n",
    "jb.del_word('而且')\n",
    "jb.del_word('只是')\n",
    "jb.del_word('一种')\n",
    "jb.del_word('就是')\n",
    "jb.del_word('什么')\n",
    "jb.del_word('没有')\n",
    "jb.del_word('这个')\n",
    "jb.del_word('但是')\n",
    "jb.del_word('我们')\n",
    "jb.del_word('自己')\n",
    "jb.del_word('感觉')\n",
    "jb.del_word('越来越')\n",
    "jb.del_word('觉得')\n",
    "jb.del_word('有点')\n",
    "jb.del_word('如果')\n",
    "jb.del_word('那个')\n",
    "jb.del_word('不过')\n",
    "jb.del_word('我觉')\n",
    "jb.del_word('那段')\n",
    "jb.del_word('真的')\n",
    "jb.del_word('其他')\n",
    "jb.del_word('一次')\n",
    "jb.del_word('一个')\n",
    "jb.del_word('还有')\n",
    "jb.del_word('那些')\n",
    "jb.del_word('起来')\n",
    "jb.del_word('已经')\n",
    "jb.del_word('真是')\n",
    "jb.del_word('以为')\n",
    "jb.del_word('出来')\n",
    "jb.del_word('怎么')"
   ]
  },
  {
   "cell_type": "code",
   "execution_count": 79,
   "metadata": {
    "scrolled": true
   },
   "outputs": [],
   "source": [
    "words = jieba.cut(contents, cut_all=False)# 精确模式\n",
    "wl_space_split = \" \".join(words)"
   ]
  },
  {
   "cell_type": "code",
   "execution_count": 80,
   "metadata": {},
   "outputs": [],
   "source": [
    "from PIL import Image\n",
    "im = Image.open('/Users/Alpha/Desktop/yyqx.png')#背景图\n",
    "bg=np.array(Image.open('/Users/Alpha/Desktop/yyqx.png'))#产生背景图片，基于彩色图像的颜色生成器"
   ]
  },
  {
   "cell_type": "code",
   "execution_count": 81,
   "metadata": {},
   "outputs": [],
   "source": [
    "from wordcloud import ImageColorGenerator\n",
    "image_colors=ImageColorGenerator(bg)# 根据图片生成词云颜色"
   ]
  },
  {
   "cell_type": "code",
   "execution_count": 82,
   "metadata": {},
   "outputs": [
    {
     "data": {
      "image/png": "[encoded data removed]",
      "text/plain": [
       "<Figure size 432x288 with 1 Axes>"
      ]
     },
     "metadata": {
      "needs_background": "light"
     },
     "output_type": "display_data"
    }
   ],
   "source": [
    "wc = WordCloud(font_path=font, #如果是中文必须要添加这个，否则会显示成框框\n",
    "               background_color='white',\n",
    "               mask=bg, # 设置背景图片\n",
    "               #width=im.size[0],# 如果是jpg格式必须设置宽高\n",
    "               #height=im.size[1],\n",
    "               max_words = 200,# 设置最大现实的字数\n",
    "               max_font_size=1000 # 字体最大值\n",
    "               #random_state = 15 # 设置有多少种随机生成状态，即有多少种配色方案\n",
    "               #scale=.5\n",
    "               ).generate(wl_space_split)\n",
    "plt.imshow(wc.recolor(color_func=image_colors))\n",
    "plt.imshow(wc)\n",
    "plt.axis('off') #不显示坐标轴\n",
    "plt.show()"
   ]
  },
  {
   "cell_type": "code",
   "execution_count": 83,
   "metadata": {},
   "outputs": [
    {
     "data": {
      "text/plain": [
       "<wordcloud.wordcloud.WordCloud at 0x266597b3b00>"
      ]
     },
     "execution_count": 83,
     "metadata": {},
     "output_type": "execute_result"
    }
   ],
   "source": [
    "wc.to_file('yyhx01.png') #保存图片"
   ]
  }
 ],
 "metadata": {
  "kernelspec": {
   "display_name": "Python 3",
   "language": "python",
   "name": "python3"
  },
  "language_info": {
   "codemirror_mode": {
    "name": "ipython",
    "version": 3
   },
   "file_extension": ".py",
   "mimetype": "text/x-python",
   "name": "python",
   "nbconvert_exporter": "python",
   "pygments_lexer": "ipython3",
   "version": "3.6.4"
  }
 },
 "nbformat": 4,
 "nbformat_minor": 2
}
